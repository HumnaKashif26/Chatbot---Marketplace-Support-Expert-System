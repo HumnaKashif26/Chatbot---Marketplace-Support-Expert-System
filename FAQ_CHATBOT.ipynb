{
  "nbformat": 4,
  "nbformat_minor": 0,
  "metadata": {
    "colab": {
      "provenance": []
    },
    "kernelspec": {
      "name": "python3",
      "display_name": "Python 3"
    },
    "language_info": {
      "name": "python"
    }
  },
  "cells": [
    {
      "cell_type": "code",
      "source": [
        "import nltk\n",
        "from nltk.tokenize import word_tokenize\n",
        "from nltk.corpus import stopwords\n",
        "import string\n",
        "import random\n",
        "\n",
        "# Download NLTK resources\n",
        "nltk.download('punkt')\n",
        "nltk.download('stopwords')\n",
        "\n",
        "# Defining the FAQ dictionary with keywords\n",
        "faq = {\n",
        "    \"hello\": \"Hello! How may I help you?\",\n",
        "    \"help\": \"Sure. What can I help you with?\",\n",
        "    \"return policy\": \"Our return policy allows returns within 30 days of purchase with a valid receipt.\",\n",
        "    \"track order\": \"You can track your order using the tracking number provided in your confirmation email.\",\n",
        "    \"international shipping\": \"Yes, we offer international shipping to select countries.\",\n",
        "    \"payment methods\": \"We accept Visa, MasterCard, and EasyPaisa.\",\n",
        "    \"cancel order\": \"Orders can be canceled within 24 hours of placement.\",\n",
        "    \"contact customer support\": \"You can contact customer support at customersupport@example.com or by calling +1234567890.\",\n",
        "    \"business hours\": \"Our business hours are from 9:00 AM to 6:00 PM, Monday to Friday.\",\n",
        "    \"gift wrapping\": \"Yes, we offer gift wrapping services for an additional fee.\",\n",
        "    \"warranty\": \"Our products come with a one-year warranty for manufacturing defects.\",\n",
        "    \"order no\": \"The order no you have provided is in our list\",\n",
        "    \"suggest\": \"I can't suggest you a product with the information you've provided\",\n",
        "    \"product availability\": \"Let me check the product availability in our inventory\",\n",
        "}\n",
        "\n",
        "# Defining exit responses for negative inputs\n",
        "exit_responses = [\"Okay, feel free to reach out if you have any more questions!\", \"Sure, let me know if you need any further assistance.\"]\n",
        "\n",
        "#preprocessing starts from here.\n",
        "def preprocess_text(text):\n",
        "    # Tokenize the text converting it into lower text\n",
        "    tokens = word_tokenize(text.lower())\n",
        "\n",
        "    # Removing punctuation and stop words\n",
        "    tokens = [token for token in tokens if token not in string.punctuation and token not in stopwords.words('english')]\n",
        "\n",
        "    return tokens\n",
        "\n",
        "def cosine_similarity(vec1, vec2):\n",
        "    # Computing cosine similarity between two vectors\n",
        "    dot_product = sum(a * b for a, b in zip(vec1, vec2))\n",
        "    norm_vec1 = sum(a ** 2 for a in vec1) ** 0.5\n",
        "    norm_vec2 = sum(a ** 2 for a in vec2) ** 0.5\n",
        "    if norm_vec1 == 0 or norm_vec2 == 0:\n",
        "        return 0  # Avoid division by zero\n",
        "    similarity = dot_product / (norm_vec1 * norm_vec2)\n",
        "    return similarity\n",
        "\n",
        "def chatbot_response(user_input):\n",
        "    # Preprocess user input\n",
        "    user_tokens = preprocess_text(user_input)\n",
        "\n",
        "    # Calculating similarity scores for each FAQ question\n",
        "    similarity_scores = []\n",
        "    for question in faq.keys():\n",
        "        question_tokens = preprocess_text(question)\n",
        "        # Createing bag-of-words vectors (binary representation)\n",
        "        user_vector = [int(token in user_tokens) for token in question_tokens]\n",
        "        question_vector = [int(token in question_tokens) for token in user_tokens]\n",
        "        similarity = cosine_similarity(user_vector, question_vector)\n",
        "        similarity_scores.append(similarity)\n",
        "     # Determining the most similar FAQ question\n",
        "    max_similarity_index = np.argmax(similarity_scores)\n",
        "    max_similarity = similarity_scores[max_similarity_index]\n",
        "\n",
        "    if max_similarity > 0.5:\n",
        "        # Returning the corresponding FAQ answer\n",
        "        return faq[list(faq.keys())[max_similarity_index]]\n",
        "\n",
        "    # If the user input is negative, return an exit response\n",
        "    if any(token.lower() in ['no', 'nope', 'not interested', 'na', 'nay'] for token in user_tokens):\n",
        "        return random.choice(exit_responses)\n",
        "\n",
        "    # If the user input is an exit command, exit the chat\n",
        "    if any(token.lower() in ['bye', 'exit', 'quit', 'ok'] for token in user_tokens):\n",
        "        return \"Goodbye!\"\n",
        "\n",
        "    # If no match is found, handling the garbage value\n",
        "    return \"I'm sorry, I don't have information on that. Please contact customer support for assistance.\"\n",
        "\n",
        "print(\"Chatbot: Welcome to Marketplace Support Expert System. How can I assist you today?\")\n",
        "# Chat loop\n",
        "while True:\n",
        "    try:\n",
        "        user_input = input(\"You: \")\n",
        "        response = chatbot_response(user_input)\n",
        "        print(\"Chatbot:\", response)\n",
        "        if response == \"Goodbye!\":\n",
        "            break\n",
        "    except Exception as e:\n",
        "        print(\"Chatbot:\", \"An error occurred:\", str(e))\n",
        "\n",
        "\n"
      ],
      "metadata": {
        "colab": {
          "base_uri": "https://localhost:8080/",
          "height": 512
        },
        "id": "TaQV_xTpuVeR",
        "outputId": "31c5d38c-4aa4-4072-d86b-6448e97a60c6"
      },
      "execution_count": 26,
      "outputs": [
        {
          "output_type": "stream",
          "name": "stderr",
          "text": [
            "[nltk_data] Downloading package punkt to /root/nltk_data...\n",
            "[nltk_data]   Package punkt is already up-to-date!\n",
            "[nltk_data] Downloading package stopwords to /root/nltk_data...\n",
            "[nltk_data]   Package stopwords is already up-to-date!\n"
          ]
        },
        {
          "output_type": "stream",
          "name": "stdout",
          "text": [
            "Chatbot: Welcome to Marketplace Support Expert System. How can I assist you today?\n",
            "You: do you offer gift wrapping\n",
            "Chatbot: I'm sorry, I don't have information on that. Please contact customer support for assistance.\n",
            "You: gift wrapping\"\n",
            "Chatbot: Yes, we offer gift wrapping services for an additional fee.\n"
          ]
        },
        {
          "output_type": "error",
          "ename": "KeyboardInterrupt",
          "evalue": "Interrupted by user",
          "traceback": [
            "\u001b[0;31m---------------------------------------------------------------------------\u001b[0m",
            "\u001b[0;31mKeyboardInterrupt\u001b[0m                         Traceback (most recent call last)",
            "\u001b[0;32m<ipython-input-26-bd9749eff20c>\u001b[0m in \u001b[0;36m<cell line: 86>\u001b[0;34m()\u001b[0m\n\u001b[1;32m     86\u001b[0m \u001b[0;32mwhile\u001b[0m \u001b[0;32mTrue\u001b[0m\u001b[0;34m:\u001b[0m\u001b[0;34m\u001b[0m\u001b[0;34m\u001b[0m\u001b[0m\n\u001b[1;32m     87\u001b[0m     \u001b[0;32mtry\u001b[0m\u001b[0;34m:\u001b[0m\u001b[0;34m\u001b[0m\u001b[0;34m\u001b[0m\u001b[0m\n\u001b[0;32m---> 88\u001b[0;31m         \u001b[0muser_input\u001b[0m \u001b[0;34m=\u001b[0m \u001b[0minput\u001b[0m\u001b[0;34m(\u001b[0m\u001b[0;34m\"You: \"\u001b[0m\u001b[0;34m)\u001b[0m\u001b[0;34m\u001b[0m\u001b[0;34m\u001b[0m\u001b[0m\n\u001b[0m\u001b[1;32m     89\u001b[0m         \u001b[0mresponse\u001b[0m \u001b[0;34m=\u001b[0m \u001b[0mchatbot_response\u001b[0m\u001b[0;34m(\u001b[0m\u001b[0muser_input\u001b[0m\u001b[0;34m)\u001b[0m\u001b[0;34m\u001b[0m\u001b[0;34m\u001b[0m\u001b[0m\n\u001b[1;32m     90\u001b[0m         \u001b[0mprint\u001b[0m\u001b[0;34m(\u001b[0m\u001b[0;34m\"Chatbot:\"\u001b[0m\u001b[0;34m,\u001b[0m \u001b[0mresponse\u001b[0m\u001b[0;34m)\u001b[0m\u001b[0;34m\u001b[0m\u001b[0;34m\u001b[0m\u001b[0m\n",
            "\u001b[0;32m/usr/local/lib/python3.10/dist-packages/ipykernel/kernelbase.py\u001b[0m in \u001b[0;36mraw_input\u001b[0;34m(self, prompt)\u001b[0m\n\u001b[1;32m    849\u001b[0m                 \u001b[0;34m\"raw_input was called, but this frontend does not support input requests.\"\u001b[0m\u001b[0;34m\u001b[0m\u001b[0;34m\u001b[0m\u001b[0m\n\u001b[1;32m    850\u001b[0m             )\n\u001b[0;32m--> 851\u001b[0;31m         return self._input_request(str(prompt),\n\u001b[0m\u001b[1;32m    852\u001b[0m             \u001b[0mself\u001b[0m\u001b[0;34m.\u001b[0m\u001b[0m_parent_ident\u001b[0m\u001b[0;34m,\u001b[0m\u001b[0;34m\u001b[0m\u001b[0;34m\u001b[0m\u001b[0m\n\u001b[1;32m    853\u001b[0m             \u001b[0mself\u001b[0m\u001b[0;34m.\u001b[0m\u001b[0m_parent_header\u001b[0m\u001b[0;34m,\u001b[0m\u001b[0;34m\u001b[0m\u001b[0;34m\u001b[0m\u001b[0m\n",
            "\u001b[0;32m/usr/local/lib/python3.10/dist-packages/ipykernel/kernelbase.py\u001b[0m in \u001b[0;36m_input_request\u001b[0;34m(self, prompt, ident, parent, password)\u001b[0m\n\u001b[1;32m    893\u001b[0m             \u001b[0;32mexcept\u001b[0m \u001b[0mKeyboardInterrupt\u001b[0m\u001b[0;34m:\u001b[0m\u001b[0;34m\u001b[0m\u001b[0;34m\u001b[0m\u001b[0m\n\u001b[1;32m    894\u001b[0m                 \u001b[0;31m# re-raise KeyboardInterrupt, to truncate traceback\u001b[0m\u001b[0;34m\u001b[0m\u001b[0;34m\u001b[0m\u001b[0m\n\u001b[0;32m--> 895\u001b[0;31m                 \u001b[0;32mraise\u001b[0m \u001b[0mKeyboardInterrupt\u001b[0m\u001b[0;34m(\u001b[0m\u001b[0;34m\"Interrupted by user\"\u001b[0m\u001b[0;34m)\u001b[0m \u001b[0;32mfrom\u001b[0m \u001b[0;32mNone\u001b[0m\u001b[0;34m\u001b[0m\u001b[0;34m\u001b[0m\u001b[0m\n\u001b[0m\u001b[1;32m    896\u001b[0m             \u001b[0;32mexcept\u001b[0m \u001b[0mException\u001b[0m \u001b[0;32mas\u001b[0m \u001b[0me\u001b[0m\u001b[0;34m:\u001b[0m\u001b[0;34m\u001b[0m\u001b[0;34m\u001b[0m\u001b[0m\n\u001b[1;32m    897\u001b[0m                 \u001b[0mself\u001b[0m\u001b[0;34m.\u001b[0m\u001b[0mlog\u001b[0m\u001b[0;34m.\u001b[0m\u001b[0mwarning\u001b[0m\u001b[0;34m(\u001b[0m\u001b[0;34m\"Invalid Message:\"\u001b[0m\u001b[0;34m,\u001b[0m \u001b[0mexc_info\u001b[0m\u001b[0;34m=\u001b[0m\u001b[0;32mTrue\u001b[0m\u001b[0;34m)\u001b[0m\u001b[0;34m\u001b[0m\u001b[0;34m\u001b[0m\u001b[0m\n",
            "\u001b[0;31mKeyboardInterrupt\u001b[0m: Interrupted by user"
          ]
        }
      ]
    }
  ]
}